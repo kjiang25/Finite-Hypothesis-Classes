{
 "cells": [
  {
   "cell_type": "markdown",
   "id": "70352e3c-2713-4f7f-889e-a18c1bf280e6",
   "metadata": {},
   "source": [
    "# Finite Hypothesis Classes\n",
    "\n",
    "In this homework, you will explore how to implement and use finite hypothesis classes.\n",
    "You will use the famous MNIST dataset for handwritten digit recognition.\n",
    "\n",
    "<img src=\"img/mnist.png\" />\n",
    "\n",
    "With the simple finite hypothesis classes we've studied so far, you should be able to get about 90% accuracy on this problem.\n",
    "By the end of the semester, you'll be able to get state-of-the-art (SOTA) accuracy of >99%.\n",
    "\n",
    "**Instructions:**\n",
    "You should read through the code starting with Part 1 below.\n",
    "The comments contain detailed descriptions of what the code is doing.\n",
    "There are three FIXME annotations in the comments (in parts 1, 3, and 4).\n",
    "You should complete the tasks specified by those FIXME annotations by modifying the jupyter notebook directly.\n",
    "Once you've completed all the tasks,\n",
    "create a new github repo and upload this notebook to github.\n",
    "Submit the assignment by copying the link to your repo in sakai."
   ]
  },
  {
   "cell_type": "markdown",
   "id": "229b33e5-37f7-4023-872b-b06e97dfbf23",
   "metadata": {},
   "source": [
    "## Part 0: Background\n",
    "\n",
    "This section contains imports and helper functions used by the code in parts 1+.\n",
    "It is safe to skip reading the code in this section for now,\n",
    "but you will likely have to refer to it later to see how to use the helper functions."
   ]
  },
  {
   "cell_type": "code",
   "execution_count": 16,
   "id": "75b19d3c-f3d6-445a-b7c7-00febf80477b",
   "metadata": {},
   "outputs": [],
   "source": [
    "import math\n",
    "import sklearn\n",
    "import sklearn.metrics\n",
    "import time\n",
    "\n",
    "# make numpy random numbers deterministic\n",
    "import numpy as np\n",
    "np.random.seed(0)\n",
    "\n",
    "# enable plotting\n",
    "import matplotlib.pyplot as plt\n",
    "%matplotlib inline"
   ]
  },
  {
   "cell_type": "code",
   "execution_count": 17,
   "id": "edf84e74-8bbc-432f-8b3a-282623776629",
   "metadata": {},
   "outputs": [],
   "source": [
    "def sign(a):\n",
    "    '''\n",
    "    Convert a boolean value into +/- 1.\n",
    "\n",
    "    >>> sign(12.5)\n",
    "    1\n",
    "    >>> sign(-12.5)\n",
    "    -1\n",
    "    '''\n",
    "    if a > 0:\n",
    "        return 1\n",
    "    if a <= 0:\n",
    "        return -1\n",
    "\n",
    "\n",
    "def set_exp(xs, p):\n",
    "    '''\n",
    "    Compute the \"set exponential\" function.\n",
    "\n",
    "    For efficiency, this function is a generator.\n",
    "    This means that large sets will never be explicitly stored,\n",
    "    and this function will always use O(1) memory.\n",
    "\n",
    "    The doctests below first convert the generator into a list for visualization.\n",
    "\n",
    "    >>> list(set_exp([-1, +1], 0))\n",
    "    []\n",
    "    >>> list(set_exp([-1, +1], 1))\n",
    "    [[-1], [1]]\n",
    "    >>> list(set_exp([-1, +1], 2))\n",
    "    [[-1, -1], [1, -1], [-1, 1], [1, 1]]\n",
    "    >>> list(set_exp([-1, +1], 3))\n",
    "    [[-1, -1, -1], [1, -1, -1], [-1, 1, -1], [1, 1, -1], [-1, -1, 1], [1, -1, 1], [-1, 1, 1], [1, 1, 1]]\n",
    "\n",
    "    Observe that the length grows exponentially with the power.\n",
    "\n",
    "    >>> len(list(set_exp([-1, +1], 4)))\n",
    "    16\n",
    "    >>> len(list(set_exp([-1, +1], 5)))\n",
    "    32\n",
    "    >>> len(list(set_exp([-1, +1], 6)))\n",
    "    64\n",
    "    >>> len(list(set_exp([-1, +1], 7)))\n",
    "    128\n",
    "    >>> len(list(set_exp([-1, +1], 8)))\n",
    "    256\n",
    "    '''\n",
    "    assert(len(xs) > 0)\n",
    "    assert(p >= 0)\n",
    "    assert(type(p) == int)\n",
    "    if p == 1:\n",
    "        for x in xs:\n",
    "            yield [x]\n",
    "    elif p > 1:\n",
    "        for x in xs:\n",
    "            for ys in set_exp(xs, p - 1):\n",
    "                yield ys + [x]"
   ]
  },
  {
   "cell_type": "markdown",
   "id": "659e448f-31d7-4870-8904-5268472c6739",
   "metadata": {},
   "source": [
    "## Part 1: Hypothesis Classes\n",
    "\n",
    "This section explores how to translate the mathematical definitions of the finite hypothesis classes into python code."
   ]
  },
  {
   "cell_type": "code",
   "execution_count": 18,
   "id": "b8de7c07-8eb3-44b4-9316-7566fed7ba26",
   "metadata": {},
   "outputs": [
    {
     "name": "stdout",
     "output_type": "stream",
     "text": [
      "ypred=1\n",
      "ypred=-1\n"
     ]
    }
   ],
   "source": [
    "# The H_binary hypothesis class is easy to represent in code as a list of anonymous functions\n",
    "H_binary = [lambda x: 1, lambda x: -1]\n",
    "\n",
    "# The code below shows how to use one of these functions.\n",
    "# First we define an example datapoint.\n",
    "# Then we apply every hypothesis h in the hypothesis class to the sample.\n",
    "x = np.array([12.5, -12.5])\n",
    "for h in H_binary:\n",
    "    ypred = h(x)\n",
    "    print(f'ypred={ypred}')\n",
    "    \n",
    "# You should ensure that you understand the output of this code."
   ]
  },
  {
   "cell_type": "code",
   "execution_count": 19,
   "id": "987ac5a7-5c3f-4a75-be44-12b4310ca51b",
   "metadata": {},
   "outputs": [
    {
     "name": "stdout",
     "output_type": "stream",
     "text": [
      "ypred=-1\n",
      "ypred=-1\n"
     ]
    }
   ],
   "source": [
    "# H_axis is harder to represent in code;\n",
    "# the \"obvious\" thing to do is something like the following two lines of code\n",
    "d = 2\n",
    "H_axis = [lambda x: sign(x[i]) for i in range(d)]\n",
    "\n",
    "# unfortunately, there is a serious bug in this code\n",
    "# to illustrate the bug, let's try applying every hypothesis to the same data point as above\n",
    "x = np.array([12.5, -12.5])\n",
    "for h in H_axis:\n",
    "    ypred = h(x)\n",
    "    print(f'ypred={ypred}')\n",
    "\n",
    "# Notice that the output is the same for both functions,\n",
    "# but the output *should* be different.\n",
    "# That's because on this particular dataset, sign(x[0]) should be +1 and sign(x[1]) should be -1.\n",
    "# the problem is that we're getting -1 twice"
   ]
  },
  {
   "cell_type": "code",
   "execution_count": 20,
   "id": "1cc4b663-98af-4f57-a1db-9a947e962ff1",
   "metadata": {},
   "outputs": [
    {
     "name": "stdout",
     "output_type": "stream",
     "text": [
      "ypred=1\n",
      "ypred=-1\n"
     ]
    }
   ],
   "source": [
    "# the problem observed above is related to something called a closure in python\n",
    "# closures are a fundamental part of modern programming,\n",
    "# and it is extremely important that you understand how they work.\n",
    "# it is common in technical interviews for SWE positions to be asked syntax-related questions about closures\n",
    "\n",
    "# for the specific case of using a lambda inside of a list comprehension,\n",
    "# you can find a detailed explanation of what is happening on stackoverflow at\n",
    "# <https://stackoverflow.com/questions/28268439/python-list-comprehension-with-lambdas>\n",
    "\n",
    "# to fix our problem, we can use a default argument to change the scope of the variable i\n",
    "# in general, when translating set builder notation into python,\n",
    "# it is necessary to do this step for all variables that you are \"looping over\"\n",
    "H_axis = [lambda x, i=i: sign(x[i]) for i in range(d)]\n",
    "\n",
    "# now observe that we get the correct output\n",
    "x = np.array([12.5, -12.5])\n",
    "for h in H_axis:\n",
    "    ypred = h(x)\n",
    "    print(f'ypred={ypred}')"
   ]
  },
  {
   "cell_type": "code",
   "execution_count": 21,
   "id": "d7a19dae-4953-4b87-9ef1-bc787d288b9a",
   "metadata": {},
   "outputs": [
    {
     "name": "stdout",
     "output_type": "stream",
     "text": [
      "H_binary\n",
      "ypred=1\n",
      "ypred=-1\n",
      "H_axis\n",
      "ypred=1\n",
      "ypred=-1\n",
      "ypred=1\n",
      "ypred=-1\n"
     ]
    }
   ],
   "source": [
    "# there's one last minor problem with our definitions of the H_binary and H_axis hypothesis classes above:\n",
    "# we've hard-coded the number of dimensions.\n",
    "# we can make our hypothesis classes more generic by wrapping them in another lambda to specify the dimension\n",
    "\n",
    "H_binary = lambda d: [lambda x: 1, lambda x: -1]\n",
    "H_axis = lambda d: [lambda x, i=i: sign(x[i]) for i in range(d)]\n",
    "\n",
    "# now to use the class, we need to specify the number of dimensions;\n",
    "# here's an example in 4 dimensions\n",
    "x = np.array([12.5, -12.5, 1.2, -1.2])\n",
    "print('H_binary')\n",
    "for h in H_binary(4):\n",
    "    ypred = h(x)\n",
    "    print(f'ypred={ypred}')\n",
    "\n",
    "print('H_axis')\n",
    "for h in H_axis(4):\n",
    "    ypred = h(x)\n",
    "    print(f'ypred={ypred}')"
   ]
  },
  {
   "cell_type": "code",
   "execution_count": 22,
   "id": "b44d063c-4ac7-4b1e-9900-fc25f11f6407",
   "metadata": {},
   "outputs": [
    {
     "name": "stdout",
     "output_type": "stream",
     "text": [
      "2\n",
      "2\n"
     ]
    }
   ],
   "source": [
    "# notice that the size of H_binary doesn't change based on the number of dimensions,\n",
    "# but that the size of H_axis does\n",
    "print(len(H_binary(2)))\n",
    "print(len(H_axis(2)))"
   ]
  },
  {
   "cell_type": "code",
   "execution_count": 23,
   "id": "60e44e40-0665-4b97-b150-7eab0be5e993",
   "metadata": {},
   "outputs": [
    {
     "name": "stdout",
     "output_type": "stream",
     "text": [
      "  d     len(H_binary(d))      len(H_axis(d))     len(H_axis2(d))     len(H_multiaxis2(d))     len(H_multiaxis3(d))\n",
      "  1                    2                   1                   2                        2                        3\n",
      "  2                    2                   2                   4                        4                        9\n",
      "  3                    2                   3                   6                        8                       27\n",
      "  4                    2                   4                   8                       16                       81\n",
      "  5                    2                   5                  10                       32                      243\n",
      "  6                    2                   6                  12                       64                      729\n",
      "  7                    2                   7                  14                      128                     2187\n",
      "  8                    2                   8                  16                      256                     6561\n",
      "  9                    2                   9                  18                      512                    19683\n",
      " 10                    2                  10                  20                     1024                    59049\n"
     ]
    }
   ],
   "source": [
    "# FIXME:\n",
    "# define the hypothesis classes below\n",
    "# HINT:\n",
    "# the multiaxis* hypothesis classes should loop over a sigma vector created from the set_exp function defined above\n",
    "H_binary = lambda d: [lambda x: +1, lambda x: -1]\n",
    "H_axis = lambda d: [lambda x, i=i: sign(x[i]) for i in range(d)]\n",
    "H_axis2 = lambda d: [lambda x, i = i, sigma=sigma: sigma*sign(x[i]) for i in range(d) for sigma in {-1, 1}]\n",
    "H_multiaxis2 = lambda d: [lambda x, sigma = sigma: sign(sum(sigma*x[i]) for i in range(d)) for sigma in set_exp([-1, 1], d)]\n",
    "H_multiaxis3 = lambda d: [lambda x, sigma = sigma: sign(sum(sigma*x[i]) for i in range(d)) for sigma in set_exp([-1, 0, 1], d)]\n",
    "\n",
    "# the following code prints a nice table showing the size of the finite hypothesis classes in different dimensions\n",
    "# you will know your implementations above are correct if the sizes match the formulas we derived in the notes \n",
    "print(f'  d {\"len(H_binary(d))\":>20}{\"len(H_axis(d))\":>20}{\"len(H_axis2(d))\":>20}{\"len(H_multiaxis2(d))\":>25}{\"len(H_multiaxis3(d))\":>25}')\n",
    "for d in range(1, 11):\n",
    "    print(f' {d:2} {len(H_binary(d)):20d}{len(H_axis(d)):20d}{len(H_axis2(d)):20d}{len(H_multiaxis2(d)):25d}{len(H_multiaxis3(d)):25d}')"
   ]
  },
  {
   "cell_type": "markdown",
   "id": "d7d195ae-06fb-4703-adaf-dbf27e019c19",
   "metadata": {},
   "source": [
    "## Part 2: Loading the MNIST Data\n",
    "\n",
    "This section loads the dataset.\n",
    "There are no FIXME annotations in this section.\n",
    "It would still be useful to skim this section, however, because the subsequent sections rely on the dataset."
   ]
  },
  {
   "cell_type": "code",
   "execution_count": 24,
   "id": "982aca51-8b83-4a41-bcbe-02fe09d9fca5",
   "metadata": {},
   "outputs": [
    {
     "name": "stdout",
     "output_type": "stream",
     "text": [
      "X.shape=(14867, 784)\n",
      "y.shape=(14867,)\n"
     ]
    }
   ],
   "source": [
    "# scikit learn has built-in functions for loading lots of standard datasets\n",
    "# the MNIST dataset is small by machine learning standards,\n",
    "# but it still takes 10-20 seconds to load on my machine\n",
    "from sklearn.datasets import fetch_openml\n",
    "X, y = fetch_openml('mnist_784', version=1, return_X_y=True)\n",
    "X = X.to_numpy()\n",
    "y = y.to_numpy()\n",
    "\n",
    "# the standard MNIST problem has 10 classes, one for each numeric digit\n",
    "# we've only studied binary classification in class so far,\n",
    "# so we'll convert MNIST into a binary problem\n",
    "# the idea is that we will label all \"1\"s as +1, all \"2\"s as -1, and delete all othe other digits\n",
    "label_positive = '1'\n",
    "label_negative = '2'\n",
    "dataset_mask = np.logical_or(y == label_positive, y == label_negative)\n",
    "X = X[dataset_mask]\n",
    "y = y[dataset_mask]\n",
    "y[y == label_positive] = +1\n",
    "y[y == label_negative] = -1\n",
    "y = y.astype(np.int64)\n",
    "\n",
    "# for debugging purposes, I always print the shape of my important tensors\n",
    "print(f\"X.shape={X.shape}\") # shape = N x d\n",
    "print(f\"y.shape={y.shape}\") # shape = N"
   ]
  },
  {
   "cell_type": "code",
   "execution_count": 25,
   "id": "4612a35d-05d4-4f67-9491-e88c3fc21f0a",
   "metadata": {},
   "outputs": [
    {
     "name": "stdout",
     "output_type": "stream",
     "text": [
      "i=0, y[i]=1, x[i]=\n"
     ]
    },
    {
     "data": {
      "image/png": "[encoded data removed]",
      "text/plain": [
       "<Figure size 72x72 with 1 Axes>"
      ]
     },
     "metadata": {
      "needs_background": "light"
     },
     "output_type": "display_data"
    },
    {
     "name": "stdout",
     "output_type": "stream",
     "text": [
      "i=1, y[i]=-1, x[i]=\n"
     ]
    },
    {
     "data": {
      "image/png": "[encoded data removed]",
      "text/plain": [
       "<Figure size 72x72 with 1 Axes>"
      ]
     },
     "metadata": {
      "needs_background": "light"
     },
     "output_type": "display_data"
    },
    {
     "name": "stdout",
     "output_type": "stream",
     "text": [
      "i=2, y[i]=1, x[i]=\n"
     ]
    },
    {
     "data": {
      "image/png": "[encoded data removed]",
      "text/plain": [
       "<Figure size 72x72 with 1 Axes>"
      ]
     },
     "metadata": {
      "needs_background": "light"
     },
     "output_type": "display_data"
    },
    {
     "name": "stdout",
     "output_type": "stream",
     "text": [
      "i=3, y[i]=1, x[i]=\n"
     ]
    },
    {
     "data": {
      "image/png": "[encoded data removed]",
      "text/plain": [
       "<Figure size 72x72 with 1 Axes>"
      ]
     },
     "metadata": {
      "needs_background": "light"
     },
     "output_type": "display_data"
    },
    {
     "name": "stdout",
     "output_type": "stream",
     "text": [
      "i=4, y[i]=1, x[i]=\n"
     ]
    },
    {
     "data": {
      "image/png": "[encoded data removed]",
      "text/plain": [
       "<Figure size 72x72 with 1 Axes>"
      ]
     },
     "metadata": {
      "needs_background": "light"
     },
     "output_type": "display_data"
    }
   ],
   "source": [
    "# it's always a good idea to visualize your datapoints after loading them\n",
    "# this lets us sanity check that our labels are in fact correct\n",
    "for i in range(5):\n",
    "    print(f\"i={i}, y[i]={y[i]}, x[i]=\")\n",
    "    image = X[i].reshape([28,28])\n",
    "    fig = plt.figure(figsize=(1,1))\n",
    "    plt.axis('off')\n",
    "    plt.imshow(image, cmap='gray')\n",
    "    plt.show()"
   ]
  },
  {
   "cell_type": "code",
   "execution_count": 26,
   "id": "a2be2af7-b4bc-4408-b5bc-4779cd8f4e24",
   "metadata": {},
   "outputs": [
    {
     "name": "stdout",
     "output_type": "stream",
     "text": [
      "Xtrain.shape=(1000, 784)\n",
      "ytrain.shape=(1000,)\n",
      "Xtest.shape=(10000, 784)\n",
      "ytest.shape=(10000,)\n"
     ]
    }
   ],
   "source": [
    "# we now split the dataset into a training a testing datasets\n",
    "# we will use a relatively small N value (just to make your future experiments faster)\n",
    "# we also have a large Ntest value, so we can be fairly confident that |Etest - Eout| is small\n",
    "N = 1000\n",
    "Ntest = 10000\n",
    "Xtrain = X[:N]\n",
    "ytrain = y[:N]\n",
    "Xtest = X[N:N+Ntest]\n",
    "ytest = y[N:N+Ntest]\n",
    "print(f\"Xtrain.shape={Xtrain.shape}\")\n",
    "print(f\"ytrain.shape={ytrain.shape}\")\n",
    "print(f\"Xtest.shape={Xtest.shape}\")\n",
    "print(f\"ytest.shape={ytest.shape}\")"
   ]
  },
  {
   "cell_type": "markdown",
   "id": "6cc413fc-ad13-43dc-883b-6378b3e7f7e6",
   "metadata": {},
   "source": [
    "## Part 3: Model Training\n",
    "\n",
    "This section introduces how to implmement and use scikit learn models.\n",
    "In general, you won't have to implement the more \"interesting\" models because they are already implemented.\n",
    "But you will have to implement the TEA model.\n",
    "The main purpose of this task is to just get you familiar with how scikit learn is structured so that you will be able to effectively use it later on."
   ]
  },
  {
   "cell_type": "code",
   "execution_count": 27,
   "id": "c9d0faad-c764-47a6-bb6b-895d39920f8a",
   "metadata": {},
   "outputs": [
    {
     "name": "stdout",
     "output_type": "stream",
     "text": [
      "runtime=0.8 seconds\n",
      "Ein=0.1540\n",
      "Etest=0.1504\n",
      "generalization error=0.0036\n"
     ]
    }
   ],
   "source": [
    "# in scikit learn, all learning models are implemented as a class\n",
    "# these classes are called \"estimators\",\n",
    "# and they follow the interface specified in <https://scikit-learn.org/dev/developers/develop.html>\n",
    "# in particular, all estimators will need at least three methods:\n",
    "# (1) __init__ specifies the hyperparameters to the model\n",
    "# (2) fit takes the training dataset as input and computes the hypothesis in the hypothesis class\n",
    "# (3) predict applies the hypothesis to an input datapoint or dataset\n",
    "\n",
    "class TEA:\n",
    "    def __init__(self, H):\n",
    "        self.H = H\n",
    "        self.g = None\n",
    "\n",
    "    def fit(self, X, Y):\n",
    "        # FIXME:\n",
    "        # implement the fit method following the pseudocode for TEA from the notes;\n",
    "        # your implementation should store the final hypothesis in the self.g variable\n",
    "        # HINT:\n",
    "        # everything so far is deterministic, so your code will be correct if it gets the exact same results as mine\n",
    "        # my results are\n",
    "        # for H_binary: Ein=0.4710\n",
    "        # for H_axis: 0.1540\n",
    "        # for H_axis2: 0.1540\n",
    "        # you won't be able to use the H_multiaxis2 or H_multiaxis3 hypothesis classes because of the exponential runtimes\n",
    "        d = X.shape[1]\n",
    "        g_score = float('-inf')\n",
    "\n",
    "        for h in self.H(d):\n",
    "            h_pred = np.array([h(x) for x in X])\n",
    "            h_score = sklearn.metrics.accuracy_score(h_pred, Y)\n",
    "            if h_score > g_score:\n",
    "                self.g = h\n",
    "                g_score = h_score\n",
    "            \n",
    "    \n",
    "    def predict(self, X):\n",
    "        assert(self.g is not None)\n",
    "        if len(X.shape) == 1:\n",
    "            return self.g(X)\n",
    "        else:\n",
    "            return np.apply_along_axis(self.g, 1, X)\n",
    "\n",
    "# we now train the model by passing the training data to the .fit method\n",
    "model = TEA(H_axis2) # replace H_axis with other hypothesis classes\n",
    "time_start = time.time()\n",
    "model.fit(Xtrain, ytrain)\n",
    "time_end = time.time()\n",
    "runtime = time_end - time_start\n",
    "print(f\"runtime={runtime:0.1f} seconds\")\n",
    "\n",
    "# report the relavent metrics\n",
    "# scikit learn does not have an error metric built in, \n",
    "# but we can compute it as 1 - accuracy\n",
    "ytrain_pred = model.predict(Xtrain)\n",
    "Ein = 1 - sklearn.metrics.accuracy_score(ytrain_pred, ytrain)\n",
    "print(f\"Ein={Ein:0.4f}\")\n",
    "ytest_pred = model.predict(Xtest)\n",
    "Etest = 1 - sklearn.metrics.accuracy_score(ytest_pred, ytest)\n",
    "print(f\"Etest={Etest:0.4f}\")\n",
    "print(f'generalization error={abs(Etest - Ein):0.4f}')"
   ]
  },
  {
   "cell_type": "markdown",
   "id": "3a24c2cd-7e25-43a7-824b-1fb5bef8fde5",
   "metadata": {},
   "source": [
    "## Part 4: Data preprocessing with random projections"
   ]
  },
  {
   "cell_type": "code",
   "execution_count": 28,
   "id": "ebc3a5bd-0688-41cf-91fe-4376a892e989",
   "metadata": {},
   "outputs": [
    {
     "name": "stdout",
     "output_type": "stream",
     "text": [
      "Afull.shape=(784, 784)\n"
     ]
    }
   ],
   "source": [
    "# recall that one of the most important parts of this class is learning how to effectively preprocess data\n",
    "# in the real world, you will never have to implement your own machine learning algorithms\n",
    "# existing implementations in libraries like scikit learn are highly optimized,\n",
    "# and there's no need to reinvent the wheel.\n",
    "# but you will have to preprocess data\n",
    "\n",
    "# one of the most important forms of preprocessing is the random projection\n",
    "# recall that projecting the data onto a smaller dimension (dprime) will cause:\n",
    "# (1) the runtime for TEA to go down,\n",
    "# (2) the generalization error |Ein - Eout| to go down,\n",
    "# (3) the training error Ein to go up\n",
    "# every application will have different demands on these quantities,\n",
    "# and so you will have to choose an appropriate dimension dprime for your application\n",
    "\n",
    "# to project the data, we need to generate a random d x dprime matrix\n",
    "# we use two tricks to generate the random matrix deterministically:\n",
    "# first, we set the seed; this ensures that every run of this cell will create the same matrix\n",
    "# (although the same seed will result in different matrices on different computers)\n",
    "# second, we create a full matrix and then slice it to the appropriate size\n",
    "# this ensures that the value of dprime does not affect the contents of A\n",
    "np.random.seed(0)\n",
    "d = X.shape[1]\n",
    "Afull = np.random.uniform(low=-1, high=1, size=(d, d))\n",
    "print(f'Afull.shape={Afull.shape}') # shape = d x d"
   ]
  },
  {
   "cell_type": "code",
   "execution_count": 29,
   "id": "8174cc89-cfd3-4374-90ab-83823dca5c5e",
   "metadata": {},
   "outputs": [
    {
     "name": "stdout",
     "output_type": "stream",
     "text": [
      "Xprime.shape=(14867, 784)\n",
      "i=0, y[i]=1, x[i]=\n"
     ]
    },
    {
     "data": {
      "image/png": "[encoded data removed]",
      "text/plain": [
       "<Figure size 216x216 with 1 Axes>"
      ]
     },
     "metadata": {
      "needs_background": "light"
     },
     "output_type": "display_data"
    },
    {
     "name": "stdout",
     "output_type": "stream",
     "text": [
      "i=1, y[i]=-1, x[i]=\n"
     ]
    },
    {
     "data": {
      "image/png": "[encoded data removed]",
      "text/plain": [
       "<Figure size 216x216 with 1 Axes>"
      ]
     },
     "metadata": {
      "needs_background": "light"
     },
     "output_type": "display_data"
    },
    {
     "name": "stdout",
     "output_type": "stream",
     "text": [
      "i=2, y[i]=1, x[i]=\n"
     ]
    },
    {
     "data": {
      "image/png": "[encoded data removed]",
      "text/plain": [
       "<Figure size 216x216 with 1 Axes>"
      ]
     },
     "metadata": {
      "needs_background": "light"
     },
     "output_type": "display_data"
    },
    {
     "name": "stdout",
     "output_type": "stream",
     "text": [
      "i=3, y[i]=1, x[i]=\n"
     ]
    },
    {
     "data": {
      "image/png": "[encoded data removed]",
      "text/plain": [
       "<Figure size 216x216 with 1 Axes>"
      ]
     },
     "metadata": {
      "needs_background": "light"
     },
     "output_type": "display_data"
    },
    {
     "name": "stdout",
     "output_type": "stream",
     "text": [
      "i=4, y[i]=1, x[i]=\n"
     ]
    },
    {
     "data": {
      "image/png": "[encoded data removed]",
      "text/plain": [
       "<Figure size 216x216 with 1 Axes>"
      ]
     },
     "metadata": {
      "needs_background": "light"
     },
     "output_type": "display_data"
    }
   ],
   "source": [
    "# the code below plots the data points after they have been projected down into a very small dprime\n",
    "dprime = 784\n",
    "A = Afull[:, :dprime]\n",
    "Xprime = X @ A\n",
    "print(f\"Xprime.shape={Xprime.shape}\")\n",
    "for i in range(5):\n",
    "    print(f\"i={i}, y[i]={y[i]}, x[i]=\")\n",
    "    image = Xprime[i].reshape([1, dprime])\n",
    "    fig = plt.figure(figsize=(3,3))\n",
    "    plt.axis('off')\n",
    "    plt.imshow(image, cmap='gray')\n",
    "    plt.show()"
   ]
  },
  {
   "cell_type": "code",
   "execution_count": 30,
   "id": "c32f1c98-b2d8-41d1-a1da-48717613855d",
   "metadata": {},
   "outputs": [
    {
     "name": "stdout",
     "output_type": "stream",
     "text": [
      "runtime=0.5 seconds\n",
      "Ein=0.1680\n",
      "Etest=0.1744\n",
      "generalization error=0.0064\n"
     ]
    }
   ],
   "source": [
    "# the images above are no longer human interpretable;\n",
    "# remarkably, we can still learn an effective hypothesis on these newly transformed data points\n",
    "# with dprime=5, my results on H_axis2 are nearly as good as they were for the full dataset\n",
    "# on this smaller dataset size, we can actually now try the H_multiaxis* hypothesis classes as well\n",
    "\n",
    "model = TEA(H_axis)\n",
    "time_start = time.time()\n",
    "model.fit(Xtrain @ A, ytrain)\n",
    "time_end = time.time()\n",
    "runtime = time_end - time_start\n",
    "print(f\"runtime={runtime:0.1f} seconds\")\n",
    "\n",
    "ytrain_pred = model.predict(Xtrain @ A)\n",
    "Ein = 1 - sklearn.metrics.accuracy_score(ytrain_pred, ytrain)\n",
    "print(f\"Ein={Ein:0.4f}\")\n",
    "\n",
    "ytest_pred = model.predict(Xtest @ A)\n",
    "Etest = 1 - sklearn.metrics.accuracy_score(ytest, ytest_pred)\n",
    "print(f\"Etest={Etest:0.4f}\")\n",
    "\n",
    "print(f'generalization error={abs(Etest - Ein):0.4f}')"
   ]
  },
  {
   "cell_type": "code",
   "execution_count": 31,
   "id": "b311faaf-3e3e-405a-bc2b-37da77888d8c",
   "metadata": {},
   "outputs": [
    {
     "data": {
      "text/plain": [
       "'\\nThe best combination of hyperparameters for this problem is the H_axis hypothesis class and dprime=784, resulting in an Etest of .1744.\\nIt appears that although the Ein for H_axis2 is lower, it actually results in a higher Etest as it may be overfitting the data.\\nH_axis has a smaller hypothesis class than H_axis2, and therefore is less likely to overfit the data.\\nSetting dprime = 784 should result in the best Etest because it is the same dimension as the original dataset, and therefore does not lose any information.\\nAs we have learned, smaller dprimes will result in a lower generalization error, but a higher training error since reducing dprime will reduce M, the number of hypothesis classes. \\n'"
      ]
     },
     "execution_count": 31,
     "metadata": {},
     "output_type": "execute_result"
    }
   ],
   "source": [
    "# FIXME:\n",
    "# your final task for this homework is to find the best possible combination of hyperparameters for this problem;\n",
    "# that is, find the best combination of hypothesis class and dprime that minimizes Etest\n",
    "# you don't have to consider hypothesis classes that take a very long amount of time to complete\n",
    "\n",
    "# modify the code block above to contain your hyperparameters\n",
    "# write a short description here about why you chose those hyperparameters and how they connect to the theory\n",
    "\"\"\"\n",
    "The best combination of hyperparameters for this problem is the H_axis hypothesis class and dprime=784, resulting in an Etest of .1744.\n",
    "It appears that although the Ein for H_axis2 is lower, it actually results in a higher Etest as it may be overfitting the data.\n",
    "H_axis has a smaller hypothesis class than H_axis2, and therefore is less likely to overfit the data.\n",
    "Setting dprime = 784 should result in the best Etest because it is the same dimension as the original dataset, and therefore does not lose any information.\n",
    "As we have learned, smaller dprimes will result in a lower generalization error, but a higher training error since reducing dprime will reduce M, the number of hypothesis classes. \n",
    "\"\"\""
   ]
  }
 ],
 "metadata": {
  "kernelspec": {
   "display_name": "Python 3 (ipykernel)",
   "language": "python",
   "name": "python3"
  },
  "language_info": {
   "codemirror_mode": {
    "name": "ipython",
    "version": 3
   },
   "file_extension": ".py",
   "mimetype": "text/x-python",
   "name": "python",
   "nbconvert_exporter": "python",
   "pygments_lexer": "ipython3",
   "version": "3.10.4"
  }
 },
 "nbformat": 4,
 "nbformat_minor": 5
}
